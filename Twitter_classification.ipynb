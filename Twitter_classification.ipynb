{
 "cells": [
  {
   "cell_type": "markdown",
   "metadata": {},
   "source": [
    "# Viral Tweets\n",
    "\n",
    "In the following project, I'm going to use the K-Nearest Neighbor algorithm to predict whether a tweet will go viral. By doing do I will answer the following question:\n",
    "\n",
    "Which features of a tweet are most closely linked to its popularity? Maybe the number of hashtags or the number of links in the tweet strongly influences its popularity. Maybe its virality is dependent on how many followers the person has. Maybe it's something more subtle like the specific language used in the tweets.\n",
    "\n",
    "The question specifically I will aim to ask is: **What are the tweet features I can use to predict whether or not a tweet will go viral with the highest degree of accuracy?**\n",
    "\n",
    "Let's explore these options by looking at the data we have available to us. We've imported the dataset and printed the following information:\n",
    "\n",
    "* The total number of tweets in the dataset.\n",
    "* The columns, or features, of the dataset.\n",
    "* The text of the first tweet in the dataset.\n",
    "\n",
    "Following Viral analysis of tweets, I'll aim to harness the power of Naive Bayes Classifier by discovering whether a tweet is from New York City, London and Paris. I'll investigate how language is used in three cities. \n",
    "\n",
    "The specific question I will ask will be: **Do tweet's language give any actional insight as to where the tweet originated from? And if so, with what degree of accuracy can I predict whether a tweet originated from New York, Paris or London?**\n"
   ]
  },
  {
   "cell_type": "code",
   "execution_count": 148,
   "metadata": {},
   "outputs": [
    {
     "name": "stdout",
     "output_type": "stream",
     "text": [
      "The total number of tweets in the dataset: 11099\n",
      "Index(['created_at', 'id', 'id_str', 'text', 'truncated', 'entities',\n",
      "       'metadata', 'source', 'in_reply_to_status_id',\n",
      "       'in_reply_to_status_id_str', 'in_reply_to_user_id',\n",
      "       'in_reply_to_user_id_str', 'in_reply_to_screen_name', 'user', 'geo',\n",
      "       'coordinates', 'place', 'contributors', 'retweeted_status',\n",
      "       'is_quote_status', 'retweet_count', 'favorite_count', 'favorited',\n",
      "       'retweeted', 'lang', 'possibly_sensitive', 'quoted_status_id',\n",
      "       'quoted_status_id_str', 'extended_entities', 'quoted_status',\n",
      "       'withheld_in_countries'],\n",
      "      dtype='object')\n",
      "The text of the first tweet: RT @KWWLStormTrack7: We are more than a month into summer but the days are getting shorter. The sunrise is about 25 minutes later on July 3…\n"
     ]
    }
   ],
   "source": [
    "import pandas as pd\n",
    "\n",
    "#Here we read in the dataset from the json file\n",
    "all_tweets = pd.read_json(\"random_tweets.json\", lines=True)\n",
    "\n",
    "#Here we will find out the total number of all the tweets in the dataset\n",
    "print('The total number of tweets in the dataset:', len(all_tweets))\n",
    "print(all_tweets.columns)\n",
    "\n",
    "\n",
    "#Let's look at the text of the first tweet\n",
    "print('The text of the first tweet:', all_tweets.loc[0]['text'])\n",
    "\n",
    "\n"
   ]
  },
  {
   "cell_type": "markdown",
   "metadata": {},
   "source": [
    "# Defining Viral Tweets\n",
    "\n",
    "In order to predict whether or not a tweet is viral or not. We will use the K-Nearest Neighbors algorithm. We just have 2 issues we need to overcome first: \n",
    "\n",
    "1. There is no labeled data to tell us whether or not the tweet data is viral or not. So we'll have to make one.\n",
    "2. Measuring whether or not a tweet is viral is subjective. I.e. There is no standardized definition \n",
    "\n",
    "\n",
    "To get around this, I will define a viral tweet as having more than the median number of retweets in the dataset.\n",
    "Let's say we wanted to create a column called `is_viral` that is a `1` if the tweet had more than the median number of retweets and `0` otherwise. \n",
    "\n",
    "Aftwerwards, I will show you the value counts for the viral tweets versus the non viral tweets\n"
   ]
  },
  {
   "cell_type": "code",
   "execution_count": 149,
   "metadata": {},
   "outputs": [
    {
     "data": {
      "text/plain": [
       "0    5562\n",
       "1    5537\n",
       "Name: is_viral, dtype: int64"
      ]
     },
     "execution_count": 149,
     "metadata": {},
     "output_type": "execute_result"
    }
   ],
   "source": [
    "import numpy as np\n",
    "median = np.median(all_tweets['retweet_count'])\n",
    "all_tweets['is_viral'] = np.where(all_tweets['retweet_count'] > median, 1, 0)\n",
    "all_tweets['is_viral'].value_counts()"
   ]
  },
  {
   "cell_type": "markdown",
   "metadata": {},
   "source": [
    "# Making Features\n",
    "\n",
    "Now that we've created a label for every tweet in our dataset, we can begin thinking about which features might determine whether a tweet is viral. We can create new columns in our dataset to represent these features. \n",
    "\n",
    "Ideally, we will look at the following characteristics of a tweet:\n",
    "\n",
    "1. The number of followers of the tweet user\n",
    "2. The length of the tweet. This can be thought of as the number of letters\n",
    "3. The number of friends of the user\n",
    "4. The number of words of the tweet\n"
   ]
  },
  {
   "cell_type": "code",
   "execution_count": 150,
   "metadata": {},
   "outputs": [],
   "source": [
    "all_tweets['tweet_length'] = all_tweets.apply(lambda tweet: len(tweet['text']), axis=1)\n",
    "all_tweets['followers_count'] = all_tweets.apply(lambda tweet: tweet['user']['followers_count'], axis=1)\n",
    "all_tweets['friends_count'] = all_tweets.apply(lambda tweet: tweet['user']['friends_count'], axis=1)\n",
    "all_tweets['num_of_words'] = all_tweets.apply(lambda tweet: len(tweet['text'].split()), axis=1)\n"
   ]
  },
  {
   "cell_type": "markdown",
   "metadata": {},
   "source": [
    "# Normalizing The Data\n",
    "Now that we have our feature data and our label data, we no longer need the other columns of dataset. \n",
    "\n",
    "Once we have selected the data we need for the algorithm, we need to scale it so as to normalize the data so it's all in the same range. I'll use sklearn's scale function to do this.\n"
   ]
  },
  {
   "cell_type": "code",
   "execution_count": 151,
   "metadata": {},
   "outputs": [
    {
     "data": {
      "text/plain": [
       "array([ 0.6164054 , -0.02878298, -0.14483305,  1.15105133])"
      ]
     },
     "execution_count": 151,
     "metadata": {},
     "output_type": "execute_result"
    }
   ],
   "source": [
    "from sklearn.preprocessing import scale\n",
    "#Create the label and our features\n",
    "labels = all_tweets['is_viral']\n",
    "data = all_tweets[['tweet_length', 'followers_count', 'friends_count', 'num_of_words']]\n",
    "\n",
    "#Scale the data\n",
    "scaled_data = scale(data, axis=0)\n",
    "\n",
    "# Let's look at the first row of our numpy array to see the scaled data.\n",
    "scaled_data[0]"
   ]
  },
  {
   "cell_type": "markdown",
   "metadata": {},
   "source": [
    "# Creating the Training Set and Test Set\n",
    "\n",
    "Now that we have the feature data and the label data, we need to divide it into training data and testing data. \n"
   ]
  },
  {
   "cell_type": "code",
   "execution_count": 152,
   "metadata": {},
   "outputs": [],
   "source": [
    "from sklearn.model_selection import train_test_split\n",
    "\n",
    "train_data, test_data, train_labels, test_labels = train_test_split(scaled_data, labels, test_size = 0.2, random_state=1)\n"
   ]
  },
  {
   "cell_type": "markdown",
   "metadata": {},
   "source": [
    "# Using the Classifier\n",
    "\n",
    "To begin with, I'll use the 5 nearest neighbors to input into the K-Nearest Neighbors Algorithm. Although later, I'll test the accuracy of various different number of neighbors. I want to avoid overfitting the training data, and so initially chose 5. \n"
   ]
  },
  {
   "cell_type": "code",
   "execution_count": 153,
   "metadata": {},
   "outputs": [
    {
     "data": {
      "text/plain": [
       "0.640990990990991"
      ]
     },
     "execution_count": 153,
     "metadata": {},
     "output_type": "execute_result"
    }
   ],
   "source": [
    "from sklearn.neighbors import KNeighborsClassifier\n",
    "classifier = KNeighborsClassifier(n_neighbors=5)\n",
    "classifier.fit(train_data, train_labels);\n",
    "\n",
    "#Now let's see the accuracy of the model \n",
    "accuracy = classifier.score(test_data, test_labels)\n",
    "accuracy"
   ]
  },
  {
   "cell_type": "markdown",
   "metadata": {},
   "source": [
    "# Choosing K\n",
    "\n",
    "Let's look at other numbers for k to find the input with the highest accuracy. As you can see from the graph below, The accuracy increases dramatically between 0-5. Afterwards, it decreases to roughly 63 percent with a k value any higher than 30. "
   ]
  },
  {
   "cell_type": "code",
   "execution_count": 154,
   "metadata": {},
   "outputs": [
    {
     "data": {
      "image/png": "[encoded data removed]",
      "text/plain": [
       "<Figure size 432x288 with 1 Axes>"
      ]
     },
     "metadata": {
      "needs_background": "light"
     },
     "output_type": "display_data"
    }
   ],
   "source": [
    "import matplotlib.pyplot as plt\n",
    "\n",
    "scores = []\n",
    "for k in range(1, 200):\n",
    "    classifier = KNeighborsClassifier(n_neighbors=k)\n",
    "    classifier.fit(train_data, train_labels)\n",
    "    scores.append(classifier.score(test_data, test_labels))\n",
    "    \n",
    "plt.plot(range(1, 200), scores)\n",
    "plt.show()\n"
   ]
  },
  {
   "cell_type": "markdown",
   "metadata": {},
   "source": [
    "# Accuracy \n",
    "\n",
    "From my analysis, I was able to get an accuracy of roughly 64%. This could potentially be increased by adding more features to the input data. \n"
   ]
  },
  {
   "cell_type": "markdown",
   "metadata": {},
   "source": [
    "# Classifying tweets: Investigating the data\n",
    "\n",
    "First, I'll have a look at the New York data by first importing it and then discovering the following features:\n",
    "\n",
    "1. The number of tweets \n",
    "2. The columns of the dataset\n",
    "3. The text of the first tweet in the dataset \n",
    "\n",
    "This step is part of EDA and essential to ensure the dataset is meeting our expectations."
   ]
  },
  {
   "cell_type": "code",
   "execution_count": 155,
   "metadata": {},
   "outputs": [
    {
     "data": {
      "text/plain": [
       "'@DelgadoforNY19 Calendar marked.'"
      ]
     },
     "execution_count": 155,
     "metadata": {},
     "output_type": "execute_result"
    }
   ],
   "source": [
    "import pandas as pd\n",
    "new_york_tweets = pd.read_json('new_york.json', lines=True)\n",
    "len(new_york_tweets)\n",
    "new_york_tweets.columns\n",
    "new_york_tweets.loc[0].text"
   ]
  },
  {
   "cell_type": "markdown",
   "metadata": {},
   "source": [
    "All good. Now let's load in the data for Paris and New York."
   ]
  },
  {
   "cell_type": "code",
   "execution_count": 156,
   "metadata": {},
   "outputs": [
    {
     "data": {
      "text/plain": [
       "2510"
      ]
     },
     "execution_count": 156,
     "metadata": {},
     "output_type": "execute_result"
    }
   ],
   "source": [
    "paris_tweets = pd.read_json('paris.json', lines=True)\n",
    "london_tweets = pd.read_json('london.json', lines=True)\n",
    "\n",
    "len(paris_tweets)"
   ]
  },
  {
   "cell_type": "code",
   "execution_count": 157,
   "metadata": {},
   "outputs": [
    {
     "data": {
      "text/plain": [
       "5341"
      ]
     },
     "execution_count": 157,
     "metadata": {},
     "output_type": "execute_result"
    }
   ],
   "source": [
    "len(london_tweets)"
   ]
  },
  {
   "cell_type": "markdown",
   "metadata": {},
   "source": [
    "# Classifying using language: Naive Bayes Classifier"
   ]
  },
  {
   "cell_type": "markdown",
   "metadata": {},
   "source": [
    "Now, I'll put all of the tweets for London, Paris and New York into a list with another list of their corresponding labels. In this case, 0 will represent New York, 1 will represent London and 2 will represent Paris. \n",
    "\n",
    "This will give us a list of all_tweets, which will contain all the tweets of all cities combined, as well as another list called labels, which will have all the labels for the tweets. \n"
   ]
  },
  {
   "cell_type": "code",
   "execution_count": 158,
   "metadata": {},
   "outputs": [],
   "source": [
    "#Convert from a Series to a list\n",
    "new_york_text = new_york_tweets[\"text\"].tolist()\n",
    "paris_text = paris_tweets['text'].tolist()\n",
    "london_text = london_tweets['text'].tolist()\n",
    "\n",
    "#Combine all the tweets in a list\n",
    "all_tweets = new_york_text + london_text + paris_text\n",
    "\n",
    "#Give their relative labels: 0 for NY, 1, for London and 2 for Paris\n",
    "labels = [0] * len(new_york_text) + ([1] * len(london_text)) + [2] * len(paris_text)"
   ]
  },
  {
   "cell_type": "markdown",
   "metadata": {},
   "source": [
    "# Making a training and test set\n"
   ]
  },
  {
   "cell_type": "markdown",
   "metadata": {},
   "source": [
    "For this part, I'll use sklearn's train_test_split function to divide the data into training and testing data. The test-size will be 0.2, meaning that of the data, 20 percent will be used for testing the model and 80 percent will be used for training the model. Let's begin."
   ]
  },
  {
   "cell_type": "code",
   "execution_count": 159,
   "metadata": {},
   "outputs": [
    {
     "name": "stdout",
     "output_type": "stream",
     "text": [
      "9430\n",
      "3144\n"
     ]
    }
   ],
   "source": [
    "#Import the function  \n",
    "from sklearn.model_selection import train_test_split\n",
    "\n",
    "train_data, test_data, train_labels, test_labels = train_test_split(all_tweets, labels)\n",
    "print(len(train_data))\n",
    "print(len(test_data))"
   ]
  },
  {
   "cell_type": "markdown",
   "metadata": {},
   "source": [
    "When using Naive Bayes Classifier, we need to covert our list of words into count vectors. Once we have the input to our classifier, I'll use CountVectorizer to train and test the Naive Bayes Classifier."
   ]
  },
  {
   "cell_type": "code",
   "execution_count": 160,
   "metadata": {},
   "outputs": [
    {
     "name": "stdout",
     "output_type": "stream",
     "text": [
      "  (0, 3717)\t1\n",
      "  (0, 9699)\t1\n"
     ]
    }
   ],
   "source": [
    "from sklearn.feature_extraction.text import CountVectorizer\n",
    "\n",
    "#Create the counter object \n",
    "counter = CountVectorizer()\n",
    "\n",
    "#Teach our counter the vocabulary \n",
    "counter.fit(train_data)\n",
    "\n",
    "#Transform train data and test data into count vectors\n",
    "train_counts = counter.transform(train_data)\n",
    "test_counts = counter.transform(test_data)\n",
    "\n",
    "train_data[3]\n",
    "print(train_counts[3])"
   ]
  },
  {
   "cell_type": "markdown",
   "metadata": {},
   "source": [
    "# Train and Test the Naive Bayes Classifier\n",
    "\n"
   ]
  },
  {
   "cell_type": "code",
   "execution_count": 161,
   "metadata": {},
   "outputs": [],
   "source": [
    "from sklearn.naive_bayes import MultinomialNB\n",
    "\n",
    "# Make a classifier \n",
    "classifier = MultinomialNB()\n",
    "\n",
    "#Fit the data \n",
    "classifier.fit(train_counts, train_labels)\n",
    "\n",
    "#Test our model \n",
    "\n",
    "predictions = classifier.predict(test_counts)"
   ]
  },
  {
   "cell_type": "markdown",
   "metadata": {},
   "source": [
    "# Evaluating the model"
   ]
  },
  {
   "cell_type": "markdown",
   "metadata": {},
   "source": [
    "Since we have fitted and transformed the data, I'll now see how well it did. I'll do this in two different ways:\n",
    "\n",
    "1. Accuracy score \n",
    "2. Confusion matrix\n",
    "\n",
    "Firstly, let's have a look at the accuracy score "
   ]
  },
  {
   "cell_type": "code",
   "execution_count": 162,
   "metadata": {},
   "outputs": [
    {
     "data": {
      "text/plain": [
       "0.6981552162849872"
      ]
     },
     "execution_count": 162,
     "metadata": {},
     "output_type": "execute_result"
    }
   ],
   "source": [
    "from sklearn.metrics import accuracy_score\n",
    "\n",
    "accuracy_score(test_labels, predictions)"
   ]
  },
  {
   "cell_type": "code",
   "execution_count": 163,
   "metadata": {},
   "outputs": [
    {
     "data": {
      "text/plain": [
       "array([[ 685,  461,   20],\n",
       "       [ 274, 1008,   25],\n",
       "       [  50,  119,  502]])"
      ]
     },
     "execution_count": 163,
     "metadata": {},
     "output_type": "execute_result"
    }
   ],
   "source": [
    "from sklearn.metrics import confusion_matrix\n",
    "confusion_matrix(test_labels, predictions)"
   ]
  },
  {
   "cell_type": "markdown",
   "metadata": {},
   "source": [
    "# Conclusion"
   ]
  },
  {
   "cell_type": "markdown",
   "metadata": {},
   "source": [
    "The confusion matrix gives us greater insight into the model. With an accuracy score of 68%, this model needs improvement, although not bad for the first time round!\n",
    "The confusion matrix tells us that New York tweets were for the overwhelming majority classified as from New York, although about 40% of the time New York tweets were misclassified as being from London. Whilst it rarely classified any tweets (32), as being from Paris. This is expected given that English is spoken in New York and London whereas in Paris French is spoken. \n",
    "With regard to London tweets, the accuracy was much higher, with around 80 percent classified correctly. Finally with tweets from Paris, most of them were correctly classified as Parisian, with around 20 percent incorrectly classified as London tweets and an even smaller proportion classified as New York. "
   ]
  },
  {
   "cell_type": "code",
   "execution_count": null,
   "metadata": {},
   "outputs": [],
   "source": []
  }
 ],
 "metadata": {
  "kernelspec": {
   "display_name": "Python 3",
   "language": "python",
   "name": "python3"
  },
  "language_info": {
   "codemirror_mode": {
    "name": "ipython",
    "version": 3
   },
   "file_extension": ".py",
   "mimetype": "text/x-python",
   "name": "python",
   "nbconvert_exporter": "python",
   "pygments_lexer": "ipython3",
   "version": "3.9.1"
  }
 },
 "nbformat": 4,
 "nbformat_minor": 2
}
